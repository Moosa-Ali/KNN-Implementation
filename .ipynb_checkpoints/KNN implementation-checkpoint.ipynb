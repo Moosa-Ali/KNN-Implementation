{
 "cells": [
  {
   "cell_type": "markdown",
   "metadata": {},
   "source": [
    "# K-Nearest Neighbour Implementation"
   ]
  },
  {
   "cell_type": "code",
   "execution_count": 1,
   "metadata": {},
   "outputs": [],
   "source": [
    "#Importing required library\n",
    "import pandas as pd\n",
    "import numpy as np\n",
    "from collections import Counter\n"
   ]
  },
  {
   "cell_type": "markdown",
   "metadata": {},
   "source": [
    "## Dataset\n",
    "\n",
    "For this tutortial we will use the Iris dataset which is opensource and can be found at the following link :\n",
    "\n",
    "https://www.kaggle.com/uciml/iris\n"
   ]
  },
  {
   "cell_type": "code",
   "execution_count": 2,
   "metadata": {},
   "outputs": [],
   "source": [
    "#Setting names for the csv header\n",
    "headernames = ['sepal-length', 'sepal-width', 'petal-length', 'petal-width', 'Class']"
   ]
  },
  {
   "cell_type": "code",
   "execution_count": 3,
   "metadata": {
    "scrolled": true
   },
   "outputs": [
    {
     "data": {
      "text/html": [
       "<div>\n",
       "<style scoped>\n",
       "    .dataframe tbody tr th:only-of-type {\n",
       "        vertical-align: middle;\n",
       "    }\n",
       "\n",
       "    .dataframe tbody tr th {\n",
       "        vertical-align: top;\n",
       "    }\n",
       "\n",
       "    .dataframe thead th {\n",
       "        text-align: right;\n",
       "    }\n",
       "</style>\n",
       "<table border=\"1\" class=\"dataframe\">\n",
       "  <thead>\n",
       "    <tr style=\"text-align: right;\">\n",
       "      <th></th>\n",
       "      <th>sepal-length</th>\n",
       "      <th>sepal-width</th>\n",
       "      <th>petal-length</th>\n",
       "      <th>petal-width</th>\n",
       "      <th>Class</th>\n",
       "    </tr>\n",
       "  </thead>\n",
       "  <tbody>\n",
       "    <tr>\n",
       "      <th>0</th>\n",
       "      <td>5.1</td>\n",
       "      <td>3.5</td>\n",
       "      <td>1.4</td>\n",
       "      <td>0.2</td>\n",
       "      <td>Iris-setosa</td>\n",
       "    </tr>\n",
       "    <tr>\n",
       "      <th>1</th>\n",
       "      <td>4.9</td>\n",
       "      <td>3.0</td>\n",
       "      <td>1.4</td>\n",
       "      <td>0.2</td>\n",
       "      <td>Iris-setosa</td>\n",
       "    </tr>\n",
       "    <tr>\n",
       "      <th>2</th>\n",
       "      <td>4.7</td>\n",
       "      <td>3.2</td>\n",
       "      <td>1.3</td>\n",
       "      <td>0.2</td>\n",
       "      <td>Iris-setosa</td>\n",
       "    </tr>\n",
       "    <tr>\n",
       "      <th>3</th>\n",
       "      <td>4.6</td>\n",
       "      <td>3.1</td>\n",
       "      <td>1.5</td>\n",
       "      <td>0.2</td>\n",
       "      <td>Iris-setosa</td>\n",
       "    </tr>\n",
       "    <tr>\n",
       "      <th>4</th>\n",
       "      <td>5.0</td>\n",
       "      <td>3.6</td>\n",
       "      <td>1.4</td>\n",
       "      <td>0.2</td>\n",
       "      <td>Iris-setosa</td>\n",
       "    </tr>\n",
       "  </tbody>\n",
       "</table>\n",
       "</div>"
      ],
      "text/plain": [
       "   sepal-length  sepal-width  petal-length  petal-width        Class\n",
       "0           5.1          3.5           1.4          0.2  Iris-setosa\n",
       "1           4.9          3.0           1.4          0.2  Iris-setosa\n",
       "2           4.7          3.2           1.3          0.2  Iris-setosa\n",
       "3           4.6          3.1           1.5          0.2  Iris-setosa\n",
       "4           5.0          3.6           1.4          0.2  Iris-setosa"
      ]
     },
     "execution_count": 3,
     "metadata": {},
     "output_type": "execute_result"
    }
   ],
   "source": [
    "#opening the csv file\n",
    "dataset = pd.read_csv(\"iris.csv\", names = headernames)\n",
    "dataset.head()"
   ]
  },
  {
   "cell_type": "markdown",
   "metadata": {},
   "source": [
    "Complete details of the dataset can be read on it's source"
   ]
  },
  {
   "cell_type": "code",
   "execution_count": 4,
   "metadata": {},
   "outputs": [],
   "source": [
    "#Seperating teh input features and outout labels\n",
    "X = dataset.iloc[:, :-1].values\n",
    "y = dataset.iloc[:, 4].values"
   ]
  },
  {
   "cell_type": "code",
   "execution_count": 5,
   "metadata": {},
   "outputs": [],
   "source": [
    "#converting text labels to numeric form\n",
    "labels, unique = pd.factorize(y)"
   ]
  },
  {
   "cell_type": "code",
   "execution_count": 6,
   "metadata": {},
   "outputs": [],
   "source": [
    "#splitting data in test and train segments\n",
    "from sklearn.model_selection import train_test_split\n",
    "X_train, X_test, y_train, y_test = train_test_split(X, labels, test_size = 0.40)"
   ]
  },
  {
   "cell_type": "code",
   "execution_count": 7,
   "metadata": {},
   "outputs": [
    {
     "data": {
      "text/plain": [
       "array([2, 2, 0, 2, 1, 1, 1, 1, 0, 2, 2, 0, 2, 1, 2, 0, 0, 2, 1, 2, 1, 0,\n",
       "       2, 1, 1, 0, 0, 2, 1, 2, 0, 1, 1, 1, 0, 0, 0, 2, 0, 0, 2, 1, 0, 2,\n",
       "       2, 1, 2, 0, 1, 1, 1, 0, 0, 0, 2, 0, 2, 1, 0, 0], dtype=int64)"
      ]
     },
     "execution_count": 7,
     "metadata": {},
     "output_type": "execute_result"
    }
   ],
   "source": [
    "y_test"
   ]
  },
  {
   "cell_type": "markdown",
   "metadata": {},
   "source": [
    "# Understanding the Algoriothm\n",
    "\n",
    "The K-Nearest Neighbour Algorithm (KNN for short) is a supervised machine learning algorithm.\n",
    "\n",
    "Being **supervised** means that it requires training labels to learn the dataset.\n",
    "\n",
    "The algorithm is suprisingly simple and short. \n",
    "\n",
    "Imagine you have 3 sacks, each filled with balls of a different shade of <font color='green'>green</font>. You also have a sack with balls of all 3 shades of <font color='green'>green</font> mixed together. Your task is to place those mixed balls in their respective sack. \n",
    "The simplest approach would be to pick out each ball and compare it against balls of each sack and place it where it color matches the most balls. \n",
    "What you have done here is quite similar to the KNN algorithm.\n",
    "\n",
    "***To understand the algorithm in terms of computations you need to know the concept of euclidean distance(Not covered in this tutorial).***\n",
    "\n",
    "We have a set of training data points which have labels against them, and a set of test data points(which need classification). We take a data point from the test set and calculate its euclidean distance with every point in the training set. We then pick the top N smallest distances and see against which classes our test point has had the smallest distance. The class which appears most is class we will associate with our test data point. \n",
    "\n",
    "Quite simple right?\n",
    "\n",
    "Lets get to coding then."
   ]
  },
  {
   "cell_type": "code",
   "execution_count": 8,
   "metadata": {},
   "outputs": [],
   "source": [
    "#Creating a helper function\n",
    "def takeSecond(elem):\n",
    "    return elem[1]"
   ]
  },
  {
   "cell_type": "markdown",
   "metadata": {},
   "source": [
    "No need to worry about the function above, it is just a helper function we will use in the algorithm to help with sorting.\n",
    "Now let's write the algorithm."
   ]
  },
  {
   "cell_type": "code",
   "execution_count": 11,
   "metadata": {},
   "outputs": [],
   "source": [
    "def KNNClassify(X_test, Y_train = y_train,X_train = X_train, k = 8):\n",
    "   \n",
    "    min_dist = []\n",
    "    #for every example in the training set, calculate eucledien distance against the test example\n",
    "    for i,point in enumerate(X_train):\n",
    "        d1 = (point[0]-X_test[0])**2\n",
    "        d2 = (point[1]-X_test[1])**2\n",
    "        d3 = (point[2]-X_test[2])**2\n",
    "        d4 = (point[3]-X_test[3])**2\n",
    "        dist = np.sqrt(d1+d2+d3+d4)\n",
    "        #append the calculated distance in a list\n",
    "        min_dist.append((i,dist))\n",
    "    #sort distances in ascending order    \n",
    "    min_dist.sort(key = takeSecond)\n",
    "    \n",
    "    #get top k nearest neighbours\n",
    "    neighbours = min_dist[:k]\n",
    "    #get index of the minimum distances\n",
    "    idx = []\n",
    "    for tup in neighbours:\n",
    "        idx.append(tup[0])\n",
    "    #check which label has majority\n",
    "    output = Y_train[idx]\n",
    "    values, counts = np.unique(output, return_counts=True)\n",
    "    #return label with majority occurence\n",
    "    max_idx = np.argmax(counts)\n",
    "    return values[max_idx]"
   ]
  },
  {
   "cell_type": "markdown",
   "metadata": {},
   "source": [
    "**ALL DONE!!**\n",
    "To test it allw e need to do is send our test data points one by one. Good thing we have a python built-in function called *map* to send multiuple inputs to a fuunction. Let's use it."
   ]
  },
  {
   "cell_type": "code",
   "execution_count": 12,
   "metadata": {},
   "outputs": [],
   "source": [
    "predictions = list(map(KNNClassify, X_test))"
   ]
  },
  {
   "cell_type": "markdown",
   "metadata": {},
   "source": [
    "Now lets see how accurate of a prediction our model made."
   ]
  },
  {
   "cell_type": "code",
   "execution_count": 13,
   "metadata": {},
   "outputs": [],
   "source": [
    "def accuracy(pred , y_test):\n",
    "    count = 0\n",
    "    for i in range(len(pred)):\n",
    "        if pred[i] == y_test[i]:\n",
    "            count +=1\n",
    "            \n",
    "    return print(\"Accuracy =\", (count/len(pred))*100, \"%\")"
   ]
  },
  {
   "cell_type": "code",
   "execution_count": 14,
   "metadata": {
    "scrolled": true
   },
   "outputs": [
    {
     "name": "stdout",
     "output_type": "stream",
     "text": [
      "Accuracy = 96.66666666666667 %\n"
     ]
    }
   ],
   "source": [
    "accuracy(predictions, y_test)"
   ]
  },
  {
   "cell_type": "markdown",
   "metadata": {},
   "source": [
    "**96.67%** is a pretty good number if you ask me."
   ]
  },
  {
   "cell_type": "code",
   "execution_count": null,
   "metadata": {},
   "outputs": [],
   "source": []
  }
 ],
 "metadata": {
  "kernelspec": {
   "display_name": "Python 3",
   "language": "python",
   "name": "python3"
  },
  "language_info": {
   "codemirror_mode": {
    "name": "ipython",
    "version": 3
   },
   "file_extension": ".py",
   "mimetype": "text/x-python",
   "name": "python",
   "nbconvert_exporter": "python",
   "pygments_lexer": "ipython3",
   "version": "3.7.6"
  }
 },
 "nbformat": 4,
 "nbformat_minor": 4
}
